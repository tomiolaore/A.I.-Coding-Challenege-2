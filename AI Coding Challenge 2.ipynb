{
 "cells": [
  {
   "cell_type": "code",
   "execution_count": 3,
   "metadata": {},
   "outputs": [
    {
     "name": "stdout",
     "output_type": "stream",
     "text": [
      "Enter a number\n",
      "35\n",
      "[2, 3, 5, 7, 11, 13, 17, 19, 23, 29, 31]\n"
     ]
    }
   ],
   "source": [
    "import math \n",
    "\n",
    "print (\"Enter a number\")\n",
    "number = int(input())\n",
    "\n",
    "primes = []\n",
    "for i in range (2, number +1):\n",
    "    primes.append(i)\n",
    "\n",
    "i = 2\n",
    "#from 2 to sqrt(number)\n",
    "while(i <= int(math.sqrt(number))):\n",
    "    #if i is in list\n",
    "    #then we have to delete its mulitples\n",
    "    if i in primes:\n",
    "        #j will give multiples of i,\n",
    "        #starting from 2*i\n",
    "        for j in range(i*2, number+1, i):\n",
    "            if j in primes:\n",
    "                #deleting the multiple if found in list\n",
    "                primes.remove(j)\n",
    "    i = i+1\n",
    "print (primes)"
   ]
  },
  {
   "cell_type": "code",
   "execution_count": 4,
   "metadata": {},
   "outputs": [
    {
     "name": "stdout",
     "output_type": "stream",
     "text": [
      "Enter a number\n",
      "55\n",
      "[2, 3, 5, 7, 11, 13, 17, 19, 23, 29, 31, 37, 41, 43, 47, 53]\n"
     ]
    }
   ],
   "source": [
    "import math \n",
    "\n",
    "print (\"Enter a number\")\n",
    "number = int(input())\n",
    "\n",
    "primes = []\n",
    "for i in range (2, number +1):\n",
    "    primes.append(i)\n",
    "\n",
    "i = 2\n",
    "#from 2 to sqrt(number)\n",
    "while(i <= int(math.sqrt(number))):\n",
    "    #if i is in list\n",
    "    #then we have to delete its mulitples\n",
    "    if i in primes:\n",
    "        #j will give multiples of i,\n",
    "        #starting from 2*i\n",
    "        for j in range(i*2, number+1, i):\n",
    "            if j in primes:\n",
    "                #deleting the multiple if found in list\n",
    "                primes.remove(j)\n",
    "    i = i+1\n",
    "print (primes)"
   ]
  },
  {
   "cell_type": "code",
   "execution_count": 5,
   "metadata": {},
   "outputs": [
    {
     "name": "stdout",
     "output_type": "stream",
     "text": [
      "Enter a number\n",
      "175\n",
      "[2, 3, 5, 7, 11, 13, 17, 19, 23, 29, 31, 37, 41, 43, 47, 53, 59, 61, 67, 71, 73, 79, 83, 89, 97, 101, 103, 107, 109, 113, 127, 131, 137, 139, 149, 151, 157, 163, 167, 173]\n"
     ]
    }
   ],
   "source": [
    "import math \n",
    "\n",
    "print (\"Enter a number\")\n",
    "number = int(input())\n",
    "\n",
    "primes = []\n",
    "for i in range (2, number +1):\n",
    "    primes.append(i)\n",
    "\n",
    "i = 2\n",
    "#from 2 to sqrt(number)\n",
    "while(i <= int(math.sqrt(number))):\n",
    "    #if i is in list\n",
    "    #then we have to delete its mulitples\n",
    "    if i in primes:\n",
    "        #j will give multiples of i,\n",
    "        #starting from 2*i\n",
    "        for j in range(i*2, number+1, i):\n",
    "            if j in primes:\n",
    "                #deleting the multiple if found in list\n",
    "                primes.remove(j)\n",
    "    i = i+1\n",
    "print (primes)"
   ]
  },
  {
   "cell_type": "code",
   "execution_count": null,
   "metadata": {},
   "outputs": [],
   "source": []
  }
 ],
 "metadata": {
  "kernelspec": {
   "display_name": "Python 3",
   "language": "python",
   "name": "python3"
  },
  "language_info": {
   "codemirror_mode": {
    "name": "ipython",
    "version": 3
   },
   "file_extension": ".py",
   "mimetype": "text/x-python",
   "name": "python",
   "nbconvert_exporter": "python",
   "pygments_lexer": "ipython3",
   "version": "3.7.3"
  }
 },
 "nbformat": 4,
 "nbformat_minor": 2
}
